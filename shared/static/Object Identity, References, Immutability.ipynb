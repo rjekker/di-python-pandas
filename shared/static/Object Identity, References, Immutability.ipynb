{
 "cells": [
  {
   "cell_type": "markdown",
   "metadata": {},
   "source": [
    "# Immutability and object identity"
   ]
  },
  {
   "cell_type": "code",
   "execution_count": null,
   "metadata": {},
   "outputs": [],
   "source": [
    "# Primitive types (like int, bool, string) are immutable in python\n",
    "# there is a \"pool\" for ints: every value only has 1 instance\n",
    "x = 5\n",
    "y = 5\n",
    "\n",
    "# The 'is' operator checks whether references point to the same object\n",
    "x is y"
   ]
  },
  {
   "cell_type": "code",
   "execution_count": null,
   "metadata": {},
   "outputs": [],
   "source": [
    "z = 10 // 2\n",
    "z is x"
   ]
  },
  {
   "cell_type": "code",
   "execution_count": null,
   "metadata": {},
   "outputs": [],
   "source": [
    "# We can check this using id() - which shows object identity\n",
    "id(x)"
   ]
  },
  {
   "cell_type": "code",
   "execution_count": null,
   "metadata": {},
   "outputs": [],
   "source": [
    "id(y)"
   ]
  },
  {
   "cell_type": "code",
   "execution_count": null,
   "metadata": {},
   "outputs": [],
   "source": [
    "# When we \"change\" a value for an int, this results in a totally new object\n",
    "# In other words, ints do not change: they are IMMUTABLE\n",
    "x += 1\n",
    "id(x)"
   ]
  },
  {
   "cell_type": "code",
   "execution_count": null,
   "metadata": {},
   "outputs": [],
   "source": [
    "x is y"
   ]
  },
  {
   "cell_type": "code",
   "execution_count": null,
   "metadata": {},
   "outputs": [],
   "source": [
    "# Strings have a pool as well\n",
    "s = \"hoi\"\n",
    "s2 = \"hoi\"\n",
    "s is s2"
   ]
  },
  {
   "cell_type": "code",
   "execution_count": null,
   "metadata": {},
   "outputs": [],
   "source": [
    "# String operations always return a new object - strings are IMMUTABLE too\n",
    "s += \"!\"\n",
    "s is s2"
   ]
  },
  {
   "cell_type": "code",
   "execution_count": null,
   "metadata": {},
   "outputs": [],
   "source": [
    "# S2 still points to the original object\n",
    "s2"
   ]
  },
  {
   "cell_type": "code",
   "execution_count": null,
   "metadata": {},
   "outputs": [],
   "source": [
    "# Lists are mutable so they have different behaviour\n",
    "l = [1,2,3]\n",
    "l2 = [1,2,3]\n",
    "l3 = l"
   ]
  },
  {
   "cell_type": "code",
   "execution_count": null,
   "metadata": {},
   "outputs": [],
   "source": [
    "# The first two lists have the same elements but are different objects\n",
    "l is l2"
   ]
  },
  {
   "cell_type": "code",
   "execution_count": null,
   "metadata": {},
   "outputs": [],
   "source": [
    "l == l2"
   ]
  },
  {
   "cell_type": "code",
   "execution_count": null,
   "metadata": {},
   "outputs": [],
   "source": [
    "# We can change the elements of a list, but the list object stays the same\n",
    "l.append(4)\n",
    "id(l)"
   ]
  },
  {
   "cell_type": "code",
   "execution_count": null,
   "metadata": {},
   "outputs": [],
   "source": [
    "# L3 is a reference to the same object so it now shows the new elements as well\n",
    "l3"
   ]
  },
  {
   "cell_type": "code",
   "execution_count": null,
   "metadata": {},
   "outputs": [],
   "source": [
    "# Sorted returns a sorted copy of a list, so a new instance\n",
    "sorted(l, reverse=True)"
   ]
  },
  {
   "cell_type": "code",
   "execution_count": null,
   "metadata": {},
   "outputs": [],
   "source": [
    "# Original list is still the same\n",
    "l"
   ]
  },
  {
   "cell_type": "code",
   "execution_count": null,
   "metadata": {},
   "outputs": [],
   "source": [
    "# To sort the list itself we use the .sort instance method\n",
    "# This returns nothing - it works \"in place\"\n",
    "l.sort(reverse=True)"
   ]
  },
  {
   "cell_type": "code",
   "execution_count": null,
   "metadata": {},
   "outputs": [],
   "source": [
    "l3"
   ]
  },
  {
   "cell_type": "code",
   "execution_count": null,
   "metadata": {},
   "outputs": [],
   "source": [
    "# Consider the following code\n",
    "class Address:\n",
    "    def __init__(self, city, street, number):\n",
    "        self.city = city\n",
    "        self.street = street\n",
    "        self.number = number\n",
    "    \n",
    "    def __str__(self):\n",
    "        return \"{} {}, {}\".format(self.street, self.number, self.city)\n",
    "        \n",
    "class Person:\n",
    "    def __init__(self, name, address):\n",
    "        self.name = name\n",
    "        self.address = address\n",
    "        \n",
    "    def __str__(self):\n",
    "        return \"{} uit {}\".format(self.name, self.address.city)\n",
    "\n",
    "    \n",
    "# We create two persons living at the same address    \n",
    "a = Address(\"Hilversum\", \"Laapersveld\", 71)\n",
    "p = Person(\"Henk Janssen\", a)\n",
    "p2 = Person(\"Ingrid Pietersen\", a)\n",
    "\n",
    "print(p)\n",
    "print(p2)"
   ]
  },
  {
   "cell_type": "code",
   "execution_count": null,
   "metadata": {},
   "outputs": [],
   "source": [
    "# Now let's change a property of the address\n",
    "# This affects both persons because they have references to the same address\n",
    "# The person objects have not changed at all!\n",
    "a.city = \"Amsterdam\"\n",
    "print(p)\n",
    "print(p2)"
   ]
  },
  {
   "cell_type": "code",
   "execution_count": null,
   "metadata": {},
   "outputs": [],
   "source": [
    "# Again, creating a new variable pointing to a person object\n",
    "# And changing a property \n",
    "# Is also reflected on the original variable - because it points to the same object\n",
    "p3 = p2\n",
    "p3.name=\"Ingrid Janssen\"\n",
    "print(p2)"
   ]
  },
  {
   "cell_type": "code",
   "execution_count": null,
   "metadata": {},
   "outputs": [],
   "source": [
    "# tuples are immutable\n",
    "t = ('a', 3, [])"
   ]
  },
  {
   "cell_type": "code",
   "execution_count": null,
   "metadata": {},
   "outputs": [],
   "source": [
    "# We cannot change one of the values to a new object\n",
    "t[0] += 'b'"
   ]
  },
  {
   "cell_type": "code",
   "execution_count": null,
   "metadata": {},
   "outputs": [],
   "source": [
    "# But we CAN append to the list\n",
    "# This does NOT change the tuple!\n",
    "t[2].append(1)"
   ]
  },
  {
   "cell_type": "code",
   "execution_count": null,
   "metadata": {},
   "outputs": [],
   "source": [
    "t"
   ]
  },
  {
   "cell_type": "code",
   "execution_count": null,
   "metadata": {},
   "outputs": [],
   "source": []
  }
 ],
 "metadata": {
  "kernelspec": {
   "display_name": "Python 3",
   "language": "python",
   "name": "python3"
  },
  "language_info": {
   "codemirror_mode": {
    "name": "ipython",
    "version": 3
   },
   "file_extension": ".py",
   "mimetype": "text/x-python",
   "name": "python",
   "nbconvert_exporter": "python",
   "pygments_lexer": "ipython3",
   "version": "3.8.8"
  }
 },
 "nbformat": 4,
 "nbformat_minor": 2
}
