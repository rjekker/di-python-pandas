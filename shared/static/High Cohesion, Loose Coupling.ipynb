{
 "cells": [
  {
   "cell_type": "markdown",
   "metadata": {},
   "source": [
    "# Single Responsibility Principle\n",
    "\n",
    "The single-responsibility principle (SRP) is a computer-programming principle that states that every module, class or function in a computer program should have responsibility over a single part of that program's functionality\n",
    "\n",
    "For more see: [Single Responsibility Principle](https://en.wikipedia.org/wiki/Single_responsibility_principle)"
   ]
  },
  {
   "cell_type": "markdown",
   "metadata": {},
   "source": [
    "# Cohesion \n",
    "Cohesion in software engineering is the degree to which the elements of a certain module belong together. Thus, it is a measure of how strongly related each piece of functionality expressed by the source code of a software module is.\n",
    "\n",
    "## Functional Cohesion\n",
    "Functional cohesion is when parts of a module are grouped because they all contribute to a single well-defined task of the module.\n",
    "\n",
    "One way of looking at cohesion in terms of object-oriented programming is if the methods in the class are using any of the private attributes. Below is one example of how a high-cohesion class would look like. \n",
    "\n",
    "![High Cohesion](high_cohesion.webp)"
   ]
  },
  {
   "cell_type": "markdown",
   "metadata": {},
   "source": [
    "Here, both methods use all private variables. This is a sign of high cohesion.\n",
    "\n",
    "Let's look at a bad example:"
   ]
  },
  {
   "cell_type": "code",
   "execution_count": null,
   "metadata": {},
   "outputs": [],
   "source": [
    "# BAD Example:\n",
    "class User:\n",
    "    def __init__(self, firstname, lastname, age):\n",
    "        self.firstname = firstname\n",
    "        self.lastname = lastname\n",
    "        self.age = age\n",
    "\n",
    "    def get_full_name(self):\n",
    "        return self.firstname + \" \" + self.lastname\n",
    "    \n",
    "    def get_account_balance(self):\n",
    "        # This is NOT a user-related function\n",
    "        return Bank.getaccount(self).balance\n",
    "    \n",
    "    def read_address_streetname(self):\n",
    "        # Why does the User class do input?\n",
    "        # Should this be coupled to text-based UI?\n",
    "        self.streetname = input(\"Enter streetname?\")"
   ]
  },
  {
   "cell_type": "code",
   "execution_count": 10,
   "metadata": {},
   "outputs": [],
   "source": [
    "# Another bad example\n",
    "def get_number(question):\n",
    "    response = input(question)\n",
    "    num = 0\n",
    "    try:\n",
    "        num = float(response)\n",
    "    except:\n",
    "        num = 0\n",
    "    return num\n",
    "\n",
    "def addition():\n",
    "    num_1 = get_number(\"Enter Number One\")\n",
    "    num_2 = get_number(\"Enter Number Two\")\n",
    "    addition = num_1 + num_2\n",
    "    print(addition)"
   ]
  },
  {
   "cell_type": "markdown",
   "metadata": {},
   "source": [
    "The addition function does three things: input, output and calculation! This has low cohesion. \n",
    "\n",
    "Better:"
   ]
  },
  {
   "cell_type": "code",
   "execution_count": 13,
   "metadata": {},
   "outputs": [],
   "source": [
    "def addition(a, b):\n",
    "    # A function with a single, clear responsibility\n",
    "    return a+b"
   ]
  },
  {
   "cell_type": "markdown",
   "metadata": {},
   "source": [
    "This leaves the choice of how to do input/output outside of the function:"
   ]
  },
  {
   "cell_type": "code",
   "execution_count": 14,
   "metadata": {},
   "outputs": [
    {
     "name": "stdout",
     "output_type": "stream",
     "text": [
      "first number?10\n",
      "second number?20\n",
      "the total is 30.0\n"
     ]
    }
   ],
   "source": [
    "a = get_number(\"first number?\")\n",
    "b = get_number(\"second number?\")\n",
    "print(f\"the total is {addition(a,b)}\")"
   ]
  },
  {
   "cell_type": "markdown",
   "metadata": {},
   "source": [
    "# Loose Coupling\n",
    "\n",
    "*Coupling* is how much one component knows about the inner workings or inner elements of another one, i.e. how much knowledge it has of the other component.\n",
    "\n",
    "Loose coupling: different classes/modules should be *minimally dependent*. It should be possible to change implementation details of a class without interfering with dependent classes.\n",
    "\n",
    "A nice description of thight coupling: \n",
    "\n",
    "    iPods are a good example of tight coupling: once the battery dies you might as well buy a new iPod because the battery is soldered fixed and won’t come loose, thus making replacing very expensive. A loosely coupled player would allow effortlessly changing the battery.\n",
    "   "
   ]
  },
  {
   "cell_type": "markdown",
   "metadata": {},
   "source": [
    "Tight coupling is where components ar so tied to one another, that you cannot possibly change the one without changing the other.\n",
    "![Tight coupling](tight_coupling.webp)\n",
    "\n",
    "Loose coupling is a method of interconnecting the components in a system or network so that those components, depend on each other to the least extent practically possible…\n",
    "![Loose coupling](loose_coupling.webp)"
   ]
  },
  {
   "cell_type": "markdown",
   "metadata": {},
   "source": [
    "# Best Practice\n",
    "We want code that:\n",
    "    \n",
    "    - Follows the Single Responsibility Principle\n",
    "    - Has high cohesion\n",
    "    - Is loosely coupled\n",
    "    \n",
    "These principles apply to everything: packages, modules, classes, functions, ..."
   ]
  },
  {
   "cell_type": "code",
   "execution_count": 4,
   "metadata": {},
   "outputs": [],
   "source": [
    "# Consider the following example for a Stock portfolio\n",
    "class Portfolio:\n",
    "    # The class Portfolio\n",
    "    def __init__(self):\n",
    "        self.position = {}\n",
    "        \n",
    "    def buy(self, symbol, amount):\n",
    "        if symbol not in self.position:\n",
    "            self.position[symbol] = amount            \n",
    "        else:\n",
    "            self.position[symbol] += amount\n",
    "            \n",
    "# Let's define some stock prices\n",
    "prices = {'AAPL': 100, 'MSFT': 80, 'GOOGL': 90}"
   ]
  },
  {
   "cell_type": "code",
   "execution_count": 9,
   "metadata": {},
   "outputs": [
    {
     "name": "stdout",
     "output_type": "stream",
     "text": [
      "1800\n"
     ]
    }
   ],
   "source": [
    "# A Broker holds many stock portfolio's and keeps a list of them\n",
    "\n",
    "class Broker:\n",
    "    # BAD example: tightly coupled\n",
    "    def __init__(self, portfolio_list):\n",
    "        self.portfolio_list = portfolio_list\n",
    "        \n",
    "    def total_value(self):\n",
    "        # This function depends on the implementation details of the portfolio\n",
    "        # When we change the portfolio class, this breaks\n",
    "        total_value = 0\n",
    "        for portfolio in self.portfolio_list:\n",
    "            # This assumes portfolio.position is a dict\n",
    "            for symbol in portfolio.position:\n",
    "                price = prices[symbol]\n",
    "                value = price * portfolio.position[symbol]\n",
    "                total_value += value\n",
    "        return total_value"
   ]
  },
  {
   "cell_type": "code",
   "execution_count": 16,
   "metadata": {},
   "outputs": [
    {
     "name": "stdout",
     "output_type": "stream",
     "text": [
      "1800\n"
     ]
    }
   ],
   "source": [
    "# Let's run: first create portfolio's\n",
    "portfolio_1 = Portfolio()\n",
    "portfolio_1.buy('AAPL', 5)\n",
    "portfolio_1.buy('MSFT', 2)\n",
    "portfolio_2 = Portfolio()\n",
    "portfolio_2.buy('GOOGL', 10)\n",
    "portfolio_2.buy('MSFT', 3)\n",
    "\n",
    "# Add them to the broker\n",
    "broker = Broker([portfolio_1, portfolio_2])\n",
    "\n",
    "print(broker.total_value())"
   ]
  },
  {
   "cell_type": "code",
   "execution_count": 15,
   "metadata": {},
   "outputs": [],
   "source": [
    "# Better\n",
    "class Portfolio:\n",
    "    def __init__(self):\n",
    "        self.position = {}\n",
    "        \n",
    "    def buy(self, symbol, amount):\n",
    "        if symbol not in self.position:\n",
    "            self.position[symbol] = amount            \n",
    "        else:\n",
    "            self.position[symbol] += amount    \n",
    "        \n",
    "    # Make calculation of total amount for the portfolio\n",
    "    # into a portfolio function\n",
    "    def value(self):\n",
    "        total_value = 0\n",
    "        for symbol in self.position:\n",
    "            price = prices[symbol]\n",
    "            value = price * self.position[symbol]\n",
    "            total_value += value\n",
    "        return total_value\n",
    "\n",
    "    \n",
    "class Broker:\n",
    "    def __init__(self, portfolio_list):\n",
    "        self.portfolio_list = portfolio_list\n",
    "        \n",
    "    def total_value(self):\n",
    "        # This function does not need to know about the inner workings\n",
    "        # Of the portfolio anymore\n",
    "        return sum([portfolio.value() for portfolio in self.portfolio_list])\n",
    "        "
   ]
  },
  {
   "cell_type": "code",
   "execution_count": 16,
   "metadata": {},
   "outputs": [
    {
     "name": "stdout",
     "output_type": "stream",
     "text": [
      "1800\n"
     ]
    }
   ],
   "source": [
    "# Let's run: first create portfolio's\n",
    "portfolio_1 = Portfolio()\n",
    "portfolio_1.buy('AAPL', 5)\n",
    "portfolio_1.buy('MSFT', 2)\n",
    "portfolio_2 = Portfolio()\n",
    "portfolio_2.buy('GOOGL', 10)\n",
    "portfolio_2.buy('MSFT', 3)\n",
    "\n",
    "# Add them to the broker\n",
    "broker = Broker([portfolio_1, portfolio_2])\n",
    "\n",
    "print(broker.total_value())"
   ]
  },
  {
   "cell_type": "markdown",
   "metadata": {},
   "source": [
    "## This now still works if we change the implementation of the portfolio\n",
    "\n",
    "Which means it is loosely coupled!"
   ]
  },
  {
   "cell_type": "code",
   "execution_count": null,
   "metadata": {},
   "outputs": [],
   "source": [
    "class Portfolio:\n",
    "    def __init__(self):\n",
    "        self.position = [] # Using another data structure\n",
    "        \n",
    "    def buy(self, symbol, amount):\n",
    "        position.append([symbol, amount])\n",
    "        \n",
    "    # Value calculation has also changed\n",
    "    def value(self):\n",
    "        total_value = 0\n",
    "        for symbol, amount in self.position:\n",
    "            price = prices[symbol]\n",
    "            value = price * self.position[symbol]\n",
    "            total_value += value\n",
    "        return total_value\n",
    "    \n",
    "    \n",
    "# But.. this is the same loosely coupled broker class.. it still works!\n",
    "class Broker:\n",
    "    def __init__(self, portfolio_list):\n",
    "        self.portfolio_list = portfolio_list\n",
    "        \n",
    "    def total_value(self):\n",
    "        return sum([portfolio.value() for portfolio in self.portfolio_list])\n",
    "        "
   ]
  },
  {
   "cell_type": "code",
   "execution_count": null,
   "metadata": {},
   "outputs": [],
   "source": [
    "# Let's run: first create portfolio's\n",
    "portfolio_1 = Portfolio()\n",
    "portfolio_1.buy('AAPL', 5)\n",
    "portfolio_1.buy('MSFT', 2)\n",
    "portfolio_2 = Portfolio()\n",
    "portfolio_2.buy('GOOGL', 10)\n",
    "portfolio_2.buy('MSFT', 3)\n",
    "# Add them to the broker\n",
    "broker = Broker([portfolio_1, portfolio_2])\n",
    "print(broker.total_value())"
   ]
  },
  {
   "cell_type": "markdown",
   "metadata": {},
   "source": [
    "In the example above, we can now change the way the data is stored (for example, use a dictionary) without needing to change the Broker class. This is because the Broker now only depends on the existence of a function called _balance_, regardless of its implementation.\n",
    "\n",
    "The first example is wrong because it violates the law of Demeter..."
   ]
  },
  {
   "cell_type": "markdown",
   "metadata": {},
   "source": [
    "# The Law of Demeter"
   ]
  },
  {
   "cell_type": "markdown",
   "metadata": {},
   "source": [
    "A method of an object may only call methods of:\n",
    "\n",
    "- The object itself.\n",
    "- An argument of the method.\n",
    "- Any object created within the method.\n",
    "- Any direct properties/fields of the object.\n",
    "\n",
    "An object A can request a service (call a method) of an object instance B, but object A should not “reach through” object B to access yet another object, C, to request its services. Doing so would mean that object A implicitly requires greater knowledge of object B’s internal structure. Instead, B’s interface should be modified if necessary so it can directly serve object A’s request, propagating it to any relevant subcomponents. Alternatively, A might have a direct reference to object C and make the request directly to that. If the law is followed, only object B knows its own internal structure.\n",
    "\n",
    "In particular, an object should avoid invoking methods of a member object returned by another method , like for example:\n",
    "\n",
    "    a = someObject.first_method().second_method()\n",
    "    \n",
    "For many modern object oriented languages that use a dot as field identifier, the law can be stated simply as “use only one dot”. The above example breaks the law where for example:\n",
    "\n",
    "    a = someObject.method()\n",
    "\n",
    "does not. As an analogy(Wikipedia), when one wants a dog to walk, one does not command the dog’s legs to walk directly; instead one commands the dog which then commands its own legs.\n",
    "\n",
    "The advantage of following the Law of Demeter is that the resulting software tends to be more maintainable and adaptable. Since objects are less dependent on the internal structure of other objects, object containers can be changed without reworking their callers."
   ]
  },
  {
   "cell_type": "code",
   "execution_count": null,
   "metadata": {},
   "outputs": [],
   "source": []
  }
 ],
 "metadata": {
  "kernelspec": {
   "display_name": "Python 3",
   "language": "python",
   "name": "python3"
  },
  "language_info": {
   "codemirror_mode": {
    "name": "ipython",
    "version": 3
   },
   "file_extension": ".py",
   "mimetype": "text/x-python",
   "name": "python",
   "nbconvert_exporter": "python",
   "pygments_lexer": "ipython3",
   "version": "3.8.8"
  }
 },
 "nbformat": 4,
 "nbformat_minor": 4
}
