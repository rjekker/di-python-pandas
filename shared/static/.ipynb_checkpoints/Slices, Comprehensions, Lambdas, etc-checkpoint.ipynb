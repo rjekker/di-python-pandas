{
 "cells": [
  {
   "cell_type": "markdown",
   "metadata": {},
   "source": [
    "# Slices\n",
    "\n",
    "Slicing means to take a subsequence from a sequence. The syntax is `s[start:end]`. Where start and end are the indexes of the subsequence you want.\n",
    "\n",
    "- Indices start and end must be integers.\n",
    "- Slices do not include the end value. It is like a half-open interval from math.\n",
    "- If indices are omitted, they default to the beginning or end of the list.\n"
   ]
  },
  {
   "cell_type": "code",
   "execution_count": 3,
   "metadata": {},
   "outputs": [
    {
     "data": {
      "text/plain": [
       "[2, 3, 4]"
      ]
     },
     "execution_count": 3,
     "metadata": {},
     "output_type": "execute_result"
    }
   ],
   "source": [
    "a = [0,1,2,3,4,5,6,7,8]\n",
    "\n",
    "a[2:5]    # [2,3,4]"
   ]
  },
  {
   "cell_type": "code",
   "execution_count": 4,
   "metadata": {},
   "outputs": [
    {
     "data": {
      "text/plain": [
       "[4, 5, 6, 7, 8]"
      ]
     },
     "execution_count": 4,
     "metadata": {},
     "output_type": "execute_result"
    }
   ],
   "source": [
    "a[-5:]    # [4,5,6,7,8]"
   ]
  },
  {
   "cell_type": "code",
   "execution_count": 5,
   "metadata": {},
   "outputs": [
    {
     "data": {
      "text/plain": [
       "[0, 1, 2]"
      ]
     },
     "execution_count": 5,
     "metadata": {},
     "output_type": "execute_result"
    }
   ],
   "source": [
    "a[:3]     # [0,1,2]"
   ]
  },
  {
   "cell_type": "code",
   "execution_count": 6,
   "metadata": {},
   "outputs": [
    {
     "data": {
      "text/plain": [
       "13.5"
      ]
     },
     "execution_count": 6,
     "metadata": {},
     "output_type": "execute_result"
    }
   ],
   "source": [
    "# Slices can be very useful on strings\n",
    "amount = \"$1.35\"\n",
    "amount_as_float = float(amount[1:])\n",
    "\n",
    "price_for_ten_items= 10*amount_as_float\n",
    "price_for_ten_items"
   ]
  },
  {
   "cell_type": "markdown",
   "metadata": {},
   "source": [
    "## Slice re-assignment\n",
    "\n",
    "On lists, slices can be reassigned and deleted."
   ]
  },
  {
   "cell_type": "markdown",
   "metadata": {},
   "source": [
    "a = [0,1,2,3,4,5,6,7,8]\n",
    "a[2:4] = [10,11,12]       # Note: The reassigned slice doesn’t need to have the same length.\n",
    "a"
   ]
  },
  {
   "cell_type": "code",
   "execution_count": 7,
   "metadata": {},
   "outputs": [
    {
     "data": {
      "text/plain": [
       "[0, 1, 4, 5, 6, 7, 8]"
      ]
     },
     "execution_count": 7,
     "metadata": {},
     "output_type": "execute_result"
    }
   ],
   "source": [
    "# Deletion\n",
    "a = [0,1,2,3,4,5,6,7,8]\n",
    "del a[2:4]                # [0,1,4,5,6,7,8]\n",
    "a"
   ]
  },
  {
   "cell_type": "markdown",
   "metadata": {},
   "source": [
    "# List comprehensions\n",
    "A list comprehension is a concise way to generate a list. The syntax looks like this:\n",
    "\n",
    "    [ operation for var in input_data [if test] ]\n",
    "    \n",
    "The variabele *input_data* has to be an _iterable_. Each element will be assigned to *var* in turn. \n",
    "\n",
    "Optionally you can add a test; only those elements that pass the test will be sent to the output.\n",
    "\n",
    "For advanced students: Python also has:\n",
    "\n",
    "- Dict comprehensions\n",
    "- Set comprehensions"
   ]
  },
  {
   "cell_type": "code",
   "execution_count": 2,
   "metadata": {},
   "outputs": [],
   "source": [
    "# Dataset for comprehension demos\n",
    "students = [(\"Laurens\", 27),\n",
    "            [\"Ruben\", 27],(\"Roel\", 29),[\"Jan\", 27],[\"Max\", 26],\n",
    "            [\"Maikel\", 29],[\"Dieter\", 24],]"
   ]
  },
  {
   "cell_type": "code",
   "execution_count": null,
   "metadata": {},
   "outputs": [],
   "source": [
    "[s[0].upper() for s in students if s[1] > 25]"
   ]
  },
  {
   "cell_type": "code",
   "execution_count": null,
   "metadata": {},
   "outputs": [],
   "source": [
    "# Generate a list of ages for all students\n",
    "def get_leeftijd(p):\n",
    "    return p[1]\n",
    "leeftijden = [s[1] for s in students ]"
   ]
  },
  {
   "cell_type": "code",
   "execution_count": null,
   "metadata": {},
   "outputs": [],
   "source": [
    "leeftijden"
   ]
  },
  {
   "cell_type": "code",
   "execution_count": null,
   "metadata": {},
   "outputs": [],
   "source": [
    "# Names of everyone under 27\n",
    "jonger_dan_27 = [s[0] for s in students if s[1] < 27]"
   ]
  },
  {
   "cell_type": "code",
   "execution_count": null,
   "metadata": {},
   "outputs": [],
   "source": [
    "jonger_dan_27"
   ]
  },
  {
   "cell_type": "markdown",
   "metadata": {},
   "source": [
    "# Lambdas\n",
    "A lambda is an _anonymous function_; in most cases it will be used as input for another function. \n",
    "\n",
    "The whole idea of a lambda is that they are short and fit inside a single line. They only contain a single expression, the result of which is returned.\n",
    "\n",
    "This function takes 1 input and returns its square:\n",
    "\n",
    "    lambda x: x*x\n",
    "    \n",
    "This is equivalent to:\n",
    "\n",
    "    def f(x):\n",
    "        return x*x\n",
    "    \n",
    "Note that the main difference is that the lambda does not have a name.\n",
    "\n",
    "This lambda takes 2 inputs and returns *True* if a is larger than b:\n",
    "\n",
    "    lambda a,b: a>b\n",
    "    "
   ]
  },
  {
   "cell_type": "code",
   "execution_count": null,
   "metadata": {},
   "outputs": [],
   "source": [
    "students"
   ]
  },
  {
   "cell_type": "code",
   "execution_count": null,
   "metadata": {},
   "outputs": [],
   "source": [
    "# Example: sort students by age\n",
    "# Using a lambda function as an argument for the \"sorted\" function\n",
    "sorted(students, key=lambda s: s[1])"
   ]
  },
  {
   "cell_type": "code",
   "execution_count": null,
   "metadata": {},
   "outputs": [],
   "source": [
    "# This is the same as using a \"normal\" function\n",
    "def get_leeftijd(p):\n",
    "    return p[1]\n",
    "sorted(students, key=get_leeftijd)"
   ]
  },
  {
   "cell_type": "markdown",
   "metadata": {},
   "source": [
    "# Map en Filter\n",
    "These functions are part of traditional /functional programming/. They are used a lot in combination with lambdas.\n",
    "\n",
    "In modern Python we prefer to use comprehensions over map/filter."
   ]
  },
  {
   "cell_type": "code",
   "execution_count": 4,
   "metadata": {},
   "outputs": [
    {
     "data": {
      "text/plain": [
       "[['Max', 26], ['Dieter', 24]]"
      ]
     },
     "execution_count": 4,
     "metadata": {},
     "output_type": "execute_result"
    }
   ],
   "source": [
    "# Watch out: map and filter return generator objects\n",
    "list(filter(lambda s: s[1] < 27, students))"
   ]
  },
  {
   "cell_type": "code",
   "execution_count": null,
   "metadata": {},
   "outputs": [],
   "source": [
    "def is_younger_than_27(student):\n",
    "    return student[1] < 27\n",
    "list(filter(is_younger_than_27, students))"
   ]
  },
  {
   "cell_type": "code",
   "execution_count": null,
   "metadata": {},
   "outputs": [],
   "source": [
    "# Convert a generator to a list at once using the list function\n",
    "list(filter(lambda s: s[1] < 27, students))"
   ]
  },
  {
   "cell_type": "code",
   "execution_count": null,
   "metadata": {},
   "outputs": [],
   "source": [
    "# Equivalent list comprehension\n",
    "[s for s in students if s[1] < 27]"
   ]
  },
  {
   "cell_type": "code",
   "execution_count": null,
   "metadata": {},
   "outputs": [],
   "source": [
    "# using map() to retrieve student names\n",
    "map(lambda s: s[0], students)"
   ]
  },
  {
   "cell_type": "code",
   "execution_count": null,
   "metadata": {},
   "outputs": [],
   "source": [
    "# Equivalent list comprehension\n",
    "[s[1] for s in students]"
   ]
  },
  {
   "cell_type": "markdown",
   "metadata": {},
   "source": [
    "# Generators\n",
    "A generator is an object that you can iterate over but that can generate values on-the-fly."
   ]
  },
  {
   "cell_type": "code",
   "execution_count": null,
   "metadata": {},
   "outputs": [],
   "source": [
    "# This takes no time because it just returns a generator\n",
    "r = range(1000000000000)\n",
    "r"
   ]
  },
  {
   "cell_type": "code",
   "execution_count": null,
   "metadata": {},
   "outputs": [],
   "source": [
    "# Let's define a function that prints a number and squares it\n",
    "def print_and_square(x):\n",
    "    print(\"Squaring: \", x)\n",
    "    return x*x"
   ]
  },
  {
   "cell_type": "code",
   "execution_count": null,
   "metadata": {},
   "outputs": [],
   "source": [
    "# Generator expressions are like list comprehensions, but lazy\n",
    "# This will do no calculations, just return a generator\n",
    "\n",
    "# Let's define a generator for the squares of the range above\n",
    "squares = (print_and_square(x) for x in r)\n",
    "\n",
    "# Again, nothing happens; it simply returns the generator"
   ]
  },
  {
   "cell_type": "code",
   "execution_count": null,
   "metadata": {},
   "outputs": [],
   "source": [
    "squares"
   ]
  },
  {
   "cell_type": "code",
   "execution_count": null,
   "metadata": {},
   "outputs": [],
   "source": [
    "# The itertools module contains functions for working with generators and iterators\n",
    "# We import islice, which lets us create a generator that only takes a part of the sequence\n",
    "\n",
    "from itertools import islice\n",
    "just_some_squares = islice(squares, 1000, 1010)"
   ]
  },
  {
   "cell_type": "code",
   "execution_count": null,
   "metadata": {},
   "outputs": [],
   "source": [
    "# Now let's make a list and see that this finally forces some work to be done\n",
    "list(just_some_squares)"
   ]
  },
  {
   "cell_type": "markdown",
   "metadata": {},
   "source": [
    "# Immutability and object identity"
   ]
  },
  {
   "cell_type": "code",
   "execution_count": null,
   "metadata": {},
   "outputs": [],
   "source": [
    "# Primitieve types (like int, bool, string) are immutable in python\n",
    "# there is a \"pool\" for ints: every value only has 1 instance\n",
    "x = 5\n",
    "y = 5\n",
    "x is y"
   ]
  },
  {
   "cell_type": "code",
   "execution_count": null,
   "metadata": {},
   "outputs": [],
   "source": [
    "# We can check this using id() - which shows object identity\n",
    "id(x)"
   ]
  },
  {
   "cell_type": "code",
   "execution_count": null,
   "metadata": {},
   "outputs": [],
   "source": [
    "id(y)"
   ]
  },
  {
   "cell_type": "code",
   "execution_count": null,
   "metadata": {},
   "outputs": [],
   "source": [
    "# When we \"change\" a value for an int, this results in a totally new object\n",
    "# In other words, ints do not change: they are IMMUTABLE\n",
    "x += 1\n",
    "id(x)"
   ]
  },
  {
   "cell_type": "code",
   "execution_count": null,
   "metadata": {},
   "outputs": [],
   "source": [
    "x is y"
   ]
  },
  {
   "cell_type": "code",
   "execution_count": null,
   "metadata": {},
   "outputs": [],
   "source": [
    "# Strings have a pool as well\n",
    "s = \"hoi\"\n",
    "s2 = \"hoi\"\n",
    "s is s2"
   ]
  },
  {
   "cell_type": "code",
   "execution_count": null,
   "metadata": {},
   "outputs": [],
   "source": [
    "# String operations always return a new object - strings are IMMUTABLE too\n",
    "s += \"!\"\n",
    "s is s2"
   ]
  },
  {
   "cell_type": "code",
   "execution_count": null,
   "metadata": {},
   "outputs": [],
   "source": [
    "# S2 still points to the original object\n",
    "s2"
   ]
  },
  {
   "cell_type": "code",
   "execution_count": null,
   "metadata": {},
   "outputs": [],
   "source": [
    "# Lists are mutable so they have different behaviour\n",
    "l = [1,2,3]\n",
    "l2 = [1,2,3]\n",
    "l3 = l"
   ]
  },
  {
   "cell_type": "code",
   "execution_count": null,
   "metadata": {},
   "outputs": [],
   "source": [
    "# The first two lists have the same elements but are different objects\n",
    "l is l2"
   ]
  },
  {
   "cell_type": "code",
   "execution_count": null,
   "metadata": {},
   "outputs": [],
   "source": [
    "l == l2"
   ]
  },
  {
   "cell_type": "code",
   "execution_count": null,
   "metadata": {},
   "outputs": [],
   "source": [
    "# We can change the elements of a list, but the list object stays the same\n",
    "l.append(4)\n",
    "id(l)"
   ]
  },
  {
   "cell_type": "code",
   "execution_count": null,
   "metadata": {},
   "outputs": [],
   "source": [
    "# L3 is a reference to the same object so it now shows the new elements as well\n",
    "l3"
   ]
  },
  {
   "cell_type": "code",
   "execution_count": null,
   "metadata": {},
   "outputs": [],
   "source": [
    "# Sorted returns a sorted copy of a list, so a new instance\n",
    "sorted(l, reverse=True)"
   ]
  },
  {
   "cell_type": "code",
   "execution_count": null,
   "metadata": {},
   "outputs": [],
   "source": [
    "# Original list is still the same\n",
    "l"
   ]
  },
  {
   "cell_type": "code",
   "execution_count": null,
   "metadata": {},
   "outputs": [],
   "source": [
    "# To sort the list itself we use the .sort instance method\n",
    "# This returns nothing - it works \"in place\"\n",
    "l.sort(reverse=True)"
   ]
  },
  {
   "cell_type": "code",
   "execution_count": null,
   "metadata": {},
   "outputs": [],
   "source": [
    "l3"
   ]
  },
  {
   "cell_type": "code",
   "execution_count": null,
   "metadata": {},
   "outputs": [],
   "source": [
    "# Consider the following code\n",
    "class Address:\n",
    "    def __init__(self, city, street, number):\n",
    "        self.city = city\n",
    "        self.street = street\n",
    "        self.number = number\n",
    "    \n",
    "    def __str__(self):\n",
    "        return \"{} {}, {}\".format(self.street, self.number, self.city)\n",
    "        \n",
    "class Person:\n",
    "    def __init__(self, name, address):\n",
    "        self.name = name\n",
    "        self.address = address\n",
    "        \n",
    "    def __str__(self):\n",
    "        return \"{} uit {}\".format(self.name, self.address.city)\n",
    "\n",
    "    \n",
    "# We create two persons living at the same address    \n",
    "a = Address(\"Hilversum\", \"Laapersveld\", 71)\n",
    "p = Person(\"Henk Janssen\", a)\n",
    "p2 = Person(\"Ingrid Pietersen\", a)\n",
    "\n",
    "print(p)\n",
    "print(p2)"
   ]
  },
  {
   "cell_type": "code",
   "execution_count": null,
   "metadata": {},
   "outputs": [],
   "source": [
    "# Now let's change a property of the address\n",
    "# This affects both persons because they have references to the same address\n",
    "# The person objects have not changed at all!\n",
    "a.city = \"Amsterdam\"\n",
    "print(p)\n",
    "print(p2)"
   ]
  },
  {
   "cell_type": "code",
   "execution_count": null,
   "metadata": {},
   "outputs": [],
   "source": [
    "# Again, creating a new variable pointing to a person object\n",
    "# And changing a property \n",
    "# Is also reflected on the original variable - because it points to the same object\n",
    "p3 = p2\n",
    "p3.name=\"Ingrid Janssen\"\n",
    "print(p2)"
   ]
  },
  {
   "cell_type": "code",
   "execution_count": null,
   "metadata": {},
   "outputs": [],
   "source": [
    "# tuples are immutable\n",
    "t = ('a', 3, [])"
   ]
  },
  {
   "cell_type": "code",
   "execution_count": null,
   "metadata": {},
   "outputs": [],
   "source": [
    "# We cannot change one of the values to a new object\n",
    "t[0] += 'b'"
   ]
  },
  {
   "cell_type": "code",
   "execution_count": null,
   "metadata": {},
   "outputs": [],
   "source": [
    "# But we CAN append to the list\n",
    "# This does NOT change the tuple!\n",
    "t[2].append(1)"
   ]
  },
  {
   "cell_type": "code",
   "execution_count": null,
   "metadata": {},
   "outputs": [],
   "source": [
    "t"
   ]
  },
  {
   "cell_type": "code",
   "execution_count": null,
   "metadata": {},
   "outputs": [],
   "source": []
  }
 ],
 "metadata": {
  "kernelspec": {
   "display_name": "Python 3",
   "language": "python",
   "name": "python3"
  },
  "language_info": {
   "codemirror_mode": {
    "name": "ipython",
    "version": 3
   },
   "file_extension": ".py",
   "mimetype": "text/x-python",
   "name": "python",
   "nbconvert_exporter": "python",
   "pygments_lexer": "ipython3",
   "version": "3.8.8"
  }
 },
 "nbformat": 4,
 "nbformat_minor": 2
}
